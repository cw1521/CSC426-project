{
 "cells": [
  {
   "cell_type": "code",
   "execution_count": 1,
   "metadata": {
    "scrolled": true
   },
   "outputs": [
    {
     "name": "stdout",
     "output_type": "stream",
     "text": [
      "modules imported\n"
     ]
    }
   ],
   "source": [
    "# import packages\n",
    "import matplotlib.pyplot as plt\n",
    "import pandas as pd\n",
    "import numpy as np\n",
    "import cartopy.crs as ccrs\n",
    "import math\n",
    "import csv\n",
    "\n",
    "print(\"modules imported\")\n",
    "\n",
    "\n"
   ]
  },
  {
   "cell_type": "code",
   "execution_count": 2,
   "metadata": {},
   "outputs": [
    {
     "name": "stdout",
     "output_type": "stream",
     "text": [
      "            id  FlightPathId  Rcvr  HasSig    Icao    Bad  \\\n",
      "0            2      11352471   102   False  AD3997  False   \n",
      "1            3      11021170   102   False  A82B72  False   \n",
      "2            4      10796473   102   False  A4BDB9  False   \n",
      "3            5      10798030   102   False  A4C3CE  False   \n",
      "4            6      10669660   102   False  A2CE5C  False   \n",
      "...        ...           ...   ...     ...     ...    ...   \n",
      "102026  115030      11301716   102    True  AC7354  False   \n",
      "102027  115031      10779590   102    True  A47BC6  False   \n",
      "102028  115032      10504444   102    True  A048FC  False   \n",
      "102029  115033      10601201   102    True  A1C2F1  False   \n",
      "102030  115034      11155860   102    True  AA3994  False   \n",
      "\n",
      "                      FSeen  CMsgs      Alt     GAlt  ...  \\\n",
      "0       2020-08-05 07:00:30      1      NaN      NaN  ...   \n",
      "1       2020-08-05 07:00:29      1   3500.0   3701.0  ...   \n",
      "2       2020-08-05 07:00:26      2  15600.0  15710.0  ...   \n",
      "3       2020-08-05 07:00:26      3    650.0    671.0  ...   \n",
      "4       2020-08-05 07:00:22      4  44975.0  45085.0  ...   \n",
      "...                     ...    ...      ...      ...  ...   \n",
      "102026  2020-08-05 07:18:40     33   1450.0   1630.0  ...   \n",
      "102027  2020-08-05 07:18:40     33   2500.0   2509.0  ...   \n",
      "102028  2020-08-05 07:18:40     33   2400.0   2480.0  ...   \n",
      "102029  2020-08-05 07:18:40     33  34000.0  34010.0  ...   \n",
      "102030  2020-08-05 07:18:40     33   5775.0   5765.0  ...   \n",
      "\n",
      "                                            other_names_1  \\\n",
      "0                                                     ...   \n",
      "1                                                     ...   \n",
      "2                                                     ...   \n",
      "3                                                     ...   \n",
      "4                                                     ...   \n",
      "...                                                   ...   \n",
      "102026  MALCOMB TONIA                                 ...   \n",
      "102027                                                ...   \n",
      "102028                                                ...   \n",
      "102029                                                ...   \n",
      "102030                                                ...   \n",
      "\n",
      "                                            other_names_2  \\\n",
      "0                                                     ...   \n",
      "1                                                     ...   \n",
      "2                                                     ...   \n",
      "3                                                     ...   \n",
      "4                                                     ...   \n",
      "...                                                   ...   \n",
      "102026  MALCOMB AUSTIN                                ...   \n",
      "102027                                                ...   \n",
      "102028                                                ...   \n",
      "102029                                                ...   \n",
      "102030                                                ...   \n",
      "\n",
      "                                            other_names_3  \\\n",
      "0                                                     ...   \n",
      "1                                                     ...   \n",
      "2                                                     ...   \n",
      "3                                                     ...   \n",
      "4                                                     ...   \n",
      "...                                                   ...   \n",
      "102026  MALCOMB MADISON                               ...   \n",
      "102027                                                ...   \n",
      "102028                                                ...   \n",
      "102029                                                ...   \n",
      "102030                                                ...   \n",
      "\n",
      "                                            other_names_4  \\\n",
      "0                                                     ...   \n",
      "1                                                     ...   \n",
      "2                                                     ...   \n",
      "3                                                     ...   \n",
      "4                                                     ...   \n",
      "...                                                   ...   \n",
      "102026                                                ...   \n",
      "102027                                                ...   \n",
      "102028                                                ...   \n",
      "102029                                                ...   \n",
      "102030                                                ...   \n",
      "\n",
      "                                            other_names_5  expiration_date  \\\n",
      "0                                                     ...         20230630   \n",
      "1                                                     ...         20231031   \n",
      "2                                                     ...         20220831   \n",
      "3                                                     ...                    \n",
      "4                                                     ...         20220531   \n",
      "...                                                   ...              ...   \n",
      "102026                                                ...         20230228   \n",
      "102027                                                ...         20220228   \n",
      "102028                                                ...         20220331   \n",
      "102029                                                ...         20230630   \n",
      "102030                                                ...         20211031   \n",
      "\n",
      "        unique_id                         kit_mfr  kit_model  mode_s_code_hex  \n",
      "0         1137057                                        NaN       AD3997      \n",
      "1          271696                                        NaN       A82B72      \n",
      "2         1129821                                        NaN       A4BDB9      \n",
      "3         1125812                                        NaN       A4C3CE      \n",
      "4         1098099                                        NaN       A2CE5C      \n",
      "...           ...                             ...        ...              ...  \n",
      "102026    1100773                                        NaN       AC7354      \n",
      "102027    1192783                                        NaN       A47BC6      \n",
      "102028      50312                                        NaN       A048FC      \n",
      "102029     147049                                        NaN       A1C2F1      \n",
      "102030     993695                                        NaN       AA3994      \n",
      "\n",
      "[102031 rows x 95 columns]\n"
     ]
    }
   ],
   "source": [
    "\n",
    "flight_data = pd.read_csv(\"./input/flight_reg_0.csv\", encoding='latin-1', low_memory=False)\n",
    "\n",
    "\n",
    "print(flight_data)"
   ]
  },
  {
   "cell_type": "code",
   "execution_count": 26,
   "metadata": {},
   "outputs": [
    {
     "name": "stdout",
     "output_type": "stream",
     "text": [
      "   FlightPathId                FSeen      Alt        Lat       Long  \\\n",
      "1      11021170  2020-08-05 07:00:29   3500.0  39.717904 -84.619019   \n",
      "2      10796473  2020-08-05 07:00:26  15600.0  33.516727 -79.442419   \n",
      "3      10798030  2020-08-05 07:00:26    650.0  32.965118 -96.833881   \n",
      "4      10669660  2020-08-05 07:00:22  44975.0  27.429463 -77.207108   \n",
      "5      10964878  2020-08-05 07:00:22   4550.0  35.695267 -86.334801   \n",
      "\n",
      "               PosTime    Spd   Trak     Reg  \\\n",
      "1  2020-08-05 07:00:29   99.0  215.1  N6252D   \n",
      "2  2020-08-05 07:00:29  340.7  212.3  N404YX   \n",
      "3  2020-08-05 07:00:30   17.1  339.4  N406KB   \n",
      "4  2020-08-05 07:00:29  439.2  341.7  N280DX   \n",
      "5  2020-08-05 07:00:29   80.2   40.4  N570MT   \n",
      "\n",
      "                                                  Op  \\\n",
      "1  H & H AVIATION ENTERPRISES LLC     - FAIRFIELD...   \n",
      "2        REPUBLIC AIRLINE INC     - INDIANAPOLIS, IN   \n",
      "3  PATTERSON JAMES PATTERSON BEVERLY    - CARTWRI...   \n",
      "4               DSG FINANCE LLC     - CORAOPOLIS, PA   \n",
      "5  MIDDLE TENNESSEE STATE UNIVERSITY     - MURFRE...   \n",
      "\n",
      "                                                name  type_registrant  \n",
      "1  H & H AVIATION ENTERPRISES LLC                ...                7  \n",
      "2  REPUBLIC AIRWAYS INC                          ...                3  \n",
      "3  REGISTRATION PENDING                          ...                1  \n",
      "4  DSG FINANCE LLC                               ...                7  \n",
      "5  MIDDLE TENNESSEE STATE UNIVERSITY             ...                5  \n"
     ]
    }
   ],
   "source": [
    "\n",
    "flight_df = flight_data[[\"FlightPathId\", \"FSeen\", \"Alt\", \"Lat\", \"Long\", \"PosTime\",\"Spd\", \"Trak\", \"Reg\", \"Op\", \"name\", \"type_registrant\"]]\n",
    "\n",
    "print(flight_df.head())\n",
    "\n"
   ]
  },
  {
   "cell_type": "code",
   "execution_count": 27,
   "metadata": {},
   "outputs": [
    {
     "name": "stdout",
     "output_type": "stream",
     "text": [
      "[-105, -75, 16, 40]\n"
     ]
    }
   ],
   "source": [
    "b_box = [math.floor(flight_df.Long.min()), math.ceil(flight_df.Long.max()), math.floor(flight_df.Lat.min()), math.ceil(flight_df.Lat.max())]\n",
    "\n",
    "print(b_box)"
   ]
  },
  {
   "cell_type": "code",
   "execution_count": 103,
   "metadata": {
    "scrolled": true
   },
   "outputs": [
    {
     "name": "stdout",
     "output_type": "stream",
     "text": [
      "           Lat       Long\n",
      "5    35.695267 -86.334801\n",
      "237  36.393176 -82.293829\n",
      "240  38.704927 -93.813232\n",
      "300  31.140282 -83.290375\n",
      "320  39.934067 -83.095337\n"
     ]
    }
   ],
   "source": [
    "df1 = flight_df[flight_df[\"PosTime\"].str.contains(\"2020-08-05\")]\n",
    "df1 = df1[df1[\"type_registrant\"] == 5]\n",
    "df1 = df1[[\"Lat\", \"Long\"]]\n",
    "print(df1.head())"
   ]
  },
  {
   "cell_type": "code",
   "execution_count": 104,
   "metadata": {
    "scrolled": true
   },
   "outputs": [
    {
     "data": {
      "image/png": "[encoded data removed]",
      "text/plain": [
       "<Figure size 432x288 with 1 Axes>"
      ]
     },
     "metadata": {
      "needs_background": "light"
     },
     "output_type": "display_data"
    }
   ],
   "source": [
    "import cartopy.feature as cfeature\n",
    "\n",
    "# ax = plt.axes(projection=ccrs.Mercator(central_longitude=((b_box[0]+b_box[1])/2)))\n",
    "ax = plt.axes(projection=ccrs.PlateCarree())\n",
    "ax.set_extent(b_box, crs=ccrs.PlateCarree())\n",
    "\n",
    "ax.coastlines()\n",
    "ax.stock_img()\n",
    "ax.add_feature(cfeature.STATES)\n",
    "long, lat = df1[\"Long\"], df1[\"Lat\"]\n",
    "longArr = long.to_numpy()\n",
    "latArr = lat.to_numpy()\n",
    "# print(longArr)\n",
    "\n",
    "# for key, values in df1:\n",
    "#     print(values)\n",
    "# plt.plot(df1[\"Long\"], df1[\"Lat\"], markersize=2, marker='o', color='red')\n",
    "plt.scatter(longArr, latArr, color=\"red\")\n",
    "plt.show()\n"
   ]
  },
  {
   "cell_type": "code",
   "execution_count": null,
   "metadata": {},
   "outputs": [],
   "source": []
  },
  {
   "cell_type": "code",
   "execution_count": null,
   "metadata": {},
   "outputs": [],
   "source": []
  }
 ],
 "metadata": {
  "kernelspec": {
   "display_name": "Python 3",
   "language": "python",
   "name": "python3"
  },
  "language_info": {
   "codemirror_mode": {
    "name": "ipython",
    "version": 3
   },
   "file_extension": ".py",
   "mimetype": "text/x-python",
   "name": "python",
   "nbconvert_exporter": "python",
   "pygments_lexer": "ipython3",
   "version": "3.7.8"
  }
 },
 "nbformat": 4,
 "nbformat_minor": 4
}
