{
 "cells": [
  {
   "cell_type": "code",
   "execution_count": 1,
   "metadata": {},
   "outputs": [
    {
     "name": "stdout",
     "output_type": "stream",
     "text": [
      "Modules loaded\n"
     ]
    }
   ],
   "source": [
    "# import packages\n",
    "import matplotlib.pyplot as plt\n",
    "import cartopy.feature as cfeature\n",
    "import pandas as pd\n",
    "import numpy as np\n",
    "import cartopy.crs as ccrs\n",
    "import math\n",
    "import csv\n",
    "\n",
    "print(\"Modules loaded\")"
   ]
  },
  {
   "cell_type": "code",
   "execution_count": 2,
   "metadata": {},
   "outputs": [
    {
     "name": "stdout",
     "output_type": "stream",
     "text": [
      "   id  FlightPathId  Rcvr  HasSig    Icao    Bad                FSeen  CMsgs  \\\n",
      "0   2      11352471   102   False  AD3997  False  2020-08-05 07:00:30      1   \n",
      "1   3      11021170   102   False  A82B72  False  2020-08-05 07:00:29      1   \n",
      "2   4      10796473   102   False  A4BDB9  False  2020-08-05 07:00:26      2   \n",
      "3   5      10798030   102   False  A4C3CE  False  2020-08-05 07:00:26      3   \n",
      "4   6      10669660   102   False  A2CE5C  False  2020-08-05 07:00:22      4   \n",
      "\n",
      "       Alt     GAlt  ...                                      other_names_1  \\\n",
      "0      NaN      NaN  ...                                                ...   \n",
      "1   3500.0   3701.0  ...                                                ...   \n",
      "2  15600.0  15710.0  ...                                                ...   \n",
      "3    650.0    671.0  ...                                                ...   \n",
      "4  44975.0  45085.0  ...                                                ...   \n",
      "\n",
      "                                       other_names_2  \\\n",
      "0                                                ...   \n",
      "1                                                ...   \n",
      "2                                                ...   \n",
      "3                                                ...   \n",
      "4                                                ...   \n",
      "\n",
      "                                       other_names_3  \\\n",
      "0                                                ...   \n",
      "1                                                ...   \n",
      "2                                                ...   \n",
      "3                                                ...   \n",
      "4                                                ...   \n",
      "\n",
      "                                       other_names_4  \\\n",
      "0                                                ...   \n",
      "1                                                ...   \n",
      "2                                                ...   \n",
      "3                                                ...   \n",
      "4                                                ...   \n",
      "\n",
      "                                       other_names_5  expiration_date  \\\n",
      "0                                                ...         20230630   \n",
      "1                                                ...         20231031   \n",
      "2                                                ...         20220831   \n",
      "3                                                ...                    \n",
      "4                                                ...         20220531   \n",
      "\n",
      "   unique_id                         kit_mfr  kit_model  mode_s_code_hex  \n",
      "0    1137057                                        NaN       AD3997      \n",
      "1     271696                                        NaN       A82B72      \n",
      "2    1129821                                        NaN       A4BDB9      \n",
      "3    1125812                                        NaN       A4C3CE      \n",
      "4    1098099                                        NaN       A2CE5C      \n",
      "\n",
      "[5 rows x 95 columns]\n"
     ]
    }
   ],
   "source": [
    "flightDf = pd.read_csv(\"./input/flight-reg-1.0.0.csv\", low_memory=False, encoding=\"latin-1\")\n",
    "\n",
    "print(flightDf.head())"
   ]
  },
  {
   "cell_type": "code",
   "execution_count": 3,
   "metadata": {},
   "outputs": [
    {
     "name": "stdout",
     "output_type": "stream",
     "text": [
      "      Reg       Long        Lat  type_registrant  \\\n",
      "0  N951NN -97.047372  32.899326                3   \n",
      "1  N6252D -84.619019  39.717904                7   \n",
      "2  N404YX -79.442419  33.516727                3   \n",
      "3  N406KB -96.833881  32.965118                1   \n",
      "4  N280DX -77.207108  27.429463                7   \n",
      "\n",
      "                                                  Op  \n",
      "0                                  American Airlines  \n",
      "1  H & H AVIATION ENTERPRISES LLC     - FAIRFIELD...  \n",
      "2        REPUBLIC AIRLINE INC     - INDIANAPOLIS, IN  \n",
      "3  PATTERSON JAMES PATTERSON BEVERLY    - CARTWRI...  \n",
      "4               DSG FINANCE LLC     - CORAOPOLIS, PA  \n"
     ]
    }
   ],
   "source": [
    "features = [\"Reg\", \"Long\", \"Lat\", \"type_registrant\", \"Op\"]\n",
    "df1 = flightDf[features]\n",
    "print(df1.head())"
   ]
  },
  {
   "cell_type": "code",
   "execution_count": 7,
   "metadata": {},
   "outputs": [
    {
     "name": "stdout",
     "output_type": "stream",
     "text": [
      "           Reg       Long        Lat  type_registrant  \\\n",
      "225207   N10UH -87.433852  31.982551                5   \n",
      "225331   N10UH -87.442987  31.963486                5   \n",
      "225455   N10UH -87.451337  31.945953                5   \n",
      "225579   N10UH -87.467926  31.910706                5   \n",
      "225703   N10UH -87.478694  31.887957                5   \n",
      "...        ...        ...        ...              ...   \n",
      "779000  N155SA -87.877754  30.463623                5   \n",
      "779598  N155SA -87.877754  30.463623                5   \n",
      "780190  N155SA -87.877754  30.463623                5   \n",
      "780780  N155SA -87.877754  30.463623                5   \n",
      "781376  N155SA -87.877754  30.463623                5   \n",
      "\n",
      "                                                       Op  \n",
      "225207  UNIVERSITY OF ALABAMA BOARD OF TRUSTEES     - ...  \n",
      "225331  UNIVERSITY OF ALABAMA BOARD OF TRUSTEES     - ...  \n",
      "225455  UNIVERSITY OF ALABAMA BOARD OF TRUSTEES     - ...  \n",
      "225579  UNIVERSITY OF ALABAMA BOARD OF TRUSTEES     - ...  \n",
      "225703  UNIVERSITY OF ALABAMA BOARD OF TRUSTEES     - ...  \n",
      "...                                                   ...  \n",
      "779000  ALABAMA LAW ENFORCEMENT AGENCY     - MONTGOMER...  \n",
      "779598  ALABAMA LAW ENFORCEMENT AGENCY     - MONTGOMER...  \n",
      "780190  ALABAMA LAW ENFORCEMENT AGENCY     - MONTGOMER...  \n",
      "780780  ALABAMA LAW ENFORCEMENT AGENCY     - MONTGOMER...  \n",
      "781376  ALABAMA LAW ENFORCEMENT AGENCY     - MONTGOMER...  \n",
      "\n",
      "[308 rows x 5 columns]\n"
     ]
    }
   ],
   "source": [
    "in_bounds = (df1[\"Lat\"] >= 30) & (df1[\"Lat\"] <= 32) & (df1[\"Long\"] <= -87) & (df1[\"Long\"] >= -89)\n",
    "b_box = (-87, -89, 30, 32)\n",
    "df1 = df1[in_bounds]\n",
    "\n",
    "# latArr = df1[\"Lat\"]\n",
    "# longArr = df1[\"Long\"]\n",
    "\n",
    "df1 = df1[df1[\"type_registrant\"] == 5]\n",
    "\n",
    "# print(latArr)\n",
    "# print(longArr)\n",
    "print(df1)\n",
    "# print(df1.shape())"
   ]
  },
  {
   "cell_type": "code",
   "execution_count": 8,
   "metadata": {},
   "outputs": [
    {
     "data": {
      "image/png": "[encoded data removed]",
      "text/plain": [
       "<Figure size 576x576 with 1 Axes>"
      ]
     },
     "metadata": {
      "needs_background": "light"
     },
     "output_type": "display_data"
    }
   ],
   "source": [
    "ax = plt.axes(projection=ccrs.PlateCarree())\n",
    "ax.set_extent(b_box, crs=ccrs.PlateCarree())\n",
    "plt.rcParams[\"figure.figsize\"] = (8,8)\n",
    "ax.coastlines()\n",
    "ax.stock_img()\n",
    "\n",
    "ax.add_feature(cfeature.STATES)\n",
    "long, lat = df1[\"Long\"], df1[\"Lat\"]\n",
    "longArr = long.to_numpy()\n",
    "latArr = lat.to_numpy()\n",
    "\n",
    "plt.scatter(longArr, latArr, color=\"red\")\n",
    "\n",
    "plt.show()"
   ]
  },
  {
   "cell_type": "code",
   "execution_count": null,
   "metadata": {},
   "outputs": [],
   "source": []
  }
 ],
 "metadata": {
  "kernelspec": {
   "display_name": "Python 3",
   "language": "python",
   "name": "python3"
  },
  "language_info": {
   "codemirror_mode": {
    "name": "ipython",
    "version": 3
   },
   "file_extension": ".py",
   "mimetype": "text/x-python",
   "name": "python",
   "nbconvert_exporter": "python",
   "pygments_lexer": "ipython3",
   "version": "3.7.8"
  }
 },
 "nbformat": 4,
 "nbformat_minor": 4
}
